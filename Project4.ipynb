{
 "cells": [
  {
   "cell_type": "code",
   "execution_count": 8,
   "id": "df9359f3-dcef-4137-b875-0b2c2882ebb9",
   "metadata": {},
   "outputs": [],
   "source": [
    "import numpy as np\n",
    "import matplotlib.pyplot as plt"
   ]
  },
  {
   "cell_type": "code",
   "execution_count": 1,
   "id": "3a6b07e8-7f61-4ca5-8844-3c88b72495af",
   "metadata": {},
   "outputs": [],
   "source": [
    "def func(x1, x2):\n",
    "    return x1**2 + 2 * x2**2\n",
    "\n",
    "def func_grad(x1, x2):\n",
    "    return (2*x1, 4*x2)"
   ]
  },
  {
   "cell_type": "code",
   "execution_count": 2,
   "id": "22681408-28b3-42a9-ac52-6bb4d363cbe5",
   "metadata": {},
   "outputs": [],
   "source": [
    "class Optimizers:\n",
    "    \n",
    "    def __init__(self, lr_schedule):\n",
    "        self.lr_schedule = lr_schedule\n",
    "  \n",
    "    def lr(self, rate , t):\n",
    "        if self.lr_schedule == \"constant\":\n",
    "            return self.constant_lr(rate)\n",
    "        elif self.lr_schedule == \"power\":\n",
    "            return self.power_lr(rate, t)\n",
    "\n",
    "    def constant_lr(self, rate):\n",
    "        return rate\n",
    "    \n",
    "    def power_lr(self, rate, t):\n",
    "        c = 1\n",
    "        s = 10\n",
    "        return rate/(1 + t/s)**c\n",
    "    def nesterov_rmsprop(self, x1, x2, v1, v2,r1,r2, func_grad , rate , t):\n",
    "        \n",
    "    \n",
    "    def nesterov_rmsprop_with_momentum(self, x1, x2, v1, v2,r1,r2, func_grad , rate , t):\n",
    "        delta = 1e-7\n",
    "        rho = 0.9\n",
    "        alpha=0.9\n",
    "        x1 += alpha*v1\n",
    "        x2 += alpha*v2\n",
    "        gr_x1, gr_x2 = func_grad(x1, x2)\n",
    "        r1 = r1*rho + (1-rho)*gr_x1**2\n",
    "        r2 = r2*rho + (1-rho)*gr_x2**2\n",
    "        v1 = alpha*v1 - self.lr(rate, t)/np.sqrt(delta+r1)*gr_x1\n",
    "        v2 = alpha*v2 - self.lr(rate, t)/np.sqrt(delta+r2)*gr_x2\n",
    "        return x1 + v1, x2 + v2, v1, v2 , r1 , r2\n"
   ]
  },
  {
   "cell_type": "code",
   "execution_count": 3,
   "id": "2c3bdfc9-531b-4510-b471-8241f137c54f",
   "metadata": {},
   "outputs": [],
   "source": [
    "def search_rsmsprop(optimizer, func_grad, rate, iteration=20):\n",
    "    x1, x2, r1, r2 , v1, v2 = -5, -2, 0, 0 ,0 , 0\n",
    "    x_iterations = [(x1, x2)]\n",
    "    for i in range(iteration):\n",
    "        x1, x2, r1, r2 , v1 , v2 = optimizer(x1, x2, r1, r2 , v1, v2, func_grad, rate, i+1)\n",
    "        x_iterations.append((x1, x2))\n",
    "    print(\"epoch {}, x1:{}, x2:{}\".format(i+1, x1, x2))\n",
    "    return x_iterations"
   ]
  },
  {
   "cell_type": "code",
   "execution_count": 4,
   "id": "f5c82ab4-cc9e-458c-a72c-713922d78ca8",
   "metadata": {},
   "outputs": [],
   "source": [
    "def search_path(func, x_iterations):\n",
    "    plt.plot(*zip(*x_iterations), \"-o\", color=\"r\")\n",
    "    x1, x2 = np.meshgrid(np.arange(-5.5, 5.5, 0.1), np.arange(-5.5, 5.5, 0.1))\n",
    "    plt.contourf(x1, x2, func(x1, x2))\n",
    "    plt.xlabel(\"x1\")\n",
    "    plt.ylabel(\"x2\")"
   ]
  },
  {
   "cell_type": "code",
   "execution_count": 9,
   "id": "2484d190-58ca-484e-b3ec-fd8c0cf23e7e",
   "metadata": {},
   "outputs": [
    {
     "name": "stdout",
     "output_type": "stream",
     "text": [
      "epoch 20, x1:0.9672529649457138, x2:-0.5325170964995609\n"
     ]
    },
    {
     "data": {
      "image/png": "[encoded data removed]",
      "text/plain": [
       "<Figure size 640x480 with 1 Axes>"
      ]
     },
     "metadata": {},
     "output_type": "display_data"
    }
   ],
   "source": [
    "opt = Optimizers(\"constant\")\n",
    "search_path(func, search_rsmsprop(opt.nesterov_rmsprop_with_momentum, func_grad , 0.05))"
   ]
  }
 ],
 "metadata": {
  "kernelspec": {
   "display_name": "Python [conda env:base] *",
   "language": "python",
   "name": "conda-base-py"
  },
  "language_info": {
   "codemirror_mode": {
    "name": "ipython",
    "version": 3
   },
   "file_extension": ".py",
   "mimetype": "text/x-python",
   "name": "python",
   "nbconvert_exporter": "python",
   "pygments_lexer": "ipython3",
   "version": "3.12.7"
  }
 },
 "nbformat": 4,
 "nbformat_minor": 5
}
